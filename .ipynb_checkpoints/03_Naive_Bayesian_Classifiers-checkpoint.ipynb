{
 "cells": [
  {
   "cell_type": "markdown",
   "metadata": {},
   "source": [
    "<center><img src='img/ms_logo.jpeg' height=40% width=40%></center>\n",
    "\n",
    "<center><h1>Naive Bayesian Classifiers</h1></center>\n",
    "\n",
    "In this notebook, we'll be focusing on **_Naive Bayesian Classifiers_**, or \"Naive Bayes\" for short.  This is an algorithm that uses **_Bayes' Theorem_** to make a classification based on probability.  In case you're unfamiliar with Bayes' Theorem, let's look at the formula:\n",
    "<br>\n",
    "<br>\n",
    "<center><img src='img/bayes_theorem.png' height=40% width=40%></center>\n",
    "<br>\n",
    "<br>\n",
    "Don't worry if you've seen this mathematical notation before. In plain English, that formula reads:\n",
    "\n",
    "\"The probability of A given B equals the probability of B given A, times the probability of A, divided by the probability of B\".  \n",
    "\n",
    "Let's run through an example case here and see if we can demystify this equation a little bit more. \n",
    "\n",
    "<center><h3>Scenario: Spam Detection</h3></center>\n",
    "\n",
    "We have a dataset of emails, and we're trying to build a classifier that can predict if an email is spam or not by examining the words based in the emails.  Each email in our training set has been labeled as \"spam\" or \"ham\" (a real email, not spam).  We've counted each word used in every email, and found the following:\n",
    "\n",
    "**_65% of the emails in the dataset are \"Spam\"._**\n",
    "\n",
    "**_\"Spam\"_** emails contain the word _\"deal\"_ 80% of the time, and _\"win\"_ 40% of the time.  \n",
    "\n",
    "**_35% of the emails in the datasert are \"Ham\"._**\n",
    "\n",
    "**_\"Ham\"_** emails contain the word _\"deal\"_ 17% of the time, and _\"win\"_ 6% of the time.  \n",
    "\n",
    "The next email we try to predict contains the both words \"deal\" and \"win\". Given the information above, we can plug these numbers into Bayes' Theorem and predict the likelihood that this is email Spam. \n",
    "\n",
    "<center>P(Spam|deal, win) = (P(win, deal|Spam) * P(Spam)) / P(deal, win)</center>\n",
    "\n",
    "This can be further broken down into: \n",
    "<br>\n",
    "<br>\n",
    "<center>P(Spam|deal) \\* P(Spam|win) = P(deal|Spam) \\* P(Spam) \\*  P(win|Spam) \\* P(Spam) / P(deal|Spam) + P(deal|!Spam) \\* P(win|Spam) + P(win|!Spam)</center>\n",
    "\n",
    "In the equation above, \"P(deal|!Spam)\" can be read as \"the percentage that 'deal' occurs in 'Ham' emails\".  \n",
    "\n",
    "On the next step, we'll start defining the probabilities for everything in that equation so we can plug them in:\n",
    "\n",
    "1. P(deal|Spam) = .8\n",
    "1. P(win|Spam) = .4\n",
    "1. P(Spam) = .65\n",
    "1. P(deal|!Spam) = .17\n",
    "1. P(win|!Spam) = .06\n",
    "1. P(!Spam) = .35\n",
    "\n",
    "Let's replace some of these terms with the probabilities listed above and see how it works out:\n",
    "<br>\n",
    "<br>\n",
    "<center>(.8 \\* .65 \\* .4 \\* .65) / .8 \\* .65 + .35 \\* .17 \\* .4 \\* .65 + .35 \\* .6 = **0.922595** </center>\n",
    "<br>\n",
    "<br>\n",
    "Based on the math from Bayes' Theorem, we can predict probability that a new email containing both \"deal\" and \"win\" is \"Spam\" is approximately **92.2%**!\n",
    "\n",
    "<center><h3>Using Naive Bayes in the Real World</h3></center>\n",
    "\n",
    "In the above example, we did the math by hand.  That isn't very practical in the real world.  Luckily, `sklearn` contains some awesome implementations of Naive Bayesian Classifiers (and regressors!).  \n",
    "\n",
    "For this assignment, we're going to use a `GaussianNB()` object.  There are a few different kinds of Naive Bayesian Classifiers, but for this one we'll stick to one that assumes our data follows a Gaussian (normal) distribution.  \n",
    "\n",
    "Let's Get Started!"
   ]
  },
  {
   "cell_type": "code",
   "execution_count": 360,
   "metadata": {
    "scrolled": true
   },
   "outputs": [
    {
     "name": "stdout",
     "output_type": "stream",
     "text": [
      "GaussianNB(priors=None)\n",
      "\n",
      "TEST PREDICTION VECTOR: \n",
      "[0 0 0 0 0 0 0 0 0 0 0 0 0 0 0 0 0 0 0 0 0 0 0 0 0 0 0 0 0 0 0 0 0 0 0 0 0\n",
      " 0 0 0 0 0 0 0 0 0 0 0 0 0 1 1 2 1 1 1 1 1 1 1 1 1 1 1 1 1 1 1 1 1 2 1 1 1\n",
      " 1 1 1 2 1 1 1 1 1 1 1 1 1 1 1 1 1 1 1 1 1 1 1 1 1 1 2 2 2 2 2 2 1 2 2 2 2\n",
      " 2 2 2 2 2 2 2 2 1 2 2 2 2 2 2 2 2 2 2 2 2 2 1 2 2 2 2 2 2 2 2 2 2 2 2 2 2\n",
      " 2 2]\n",
      "\n",
      "\n",
      "ACTUAL Y-TEST VALUES: \n",
      "[0 0 1 0 0 0 1 0 0 0 0 1 1 0 0 0 0 0 1 0 1 0 0 0 0 1 0 1 0 0 0 1 1 1 1 0 0\n",
      " 0 0 0 0 0 0 1 0 0 1 1 1 0 0 0 1 0 0 0 0 0 1 0 0 0 0 1 1 0 0 0 1 1 0 0 0 0\n",
      " 0 0 1 0 1 0 0 0 1 0 0 0 0 0 1 0 1 0 0 1 0 0 0 0 0 0 1 1 1 0 0 1 1 1 0 0 0\n",
      " 0 0 1 1 0 1 1 1 1 0 0 0 0 0 0 0 0 0 0 0 0 0 0 1 1 0 0 1 0 1 0 0 0 0 1 1 0\n",
      " 0 0 0 0 0 0 1 0 1 0 0 1 0 1 0 1 0 0 0 0 0 1 1 1 1 0 0 0 0 0 0 0 0 1 0 0 0\n",
      " 0 0 0 0 1 0 0]\n",
      "\n",
      "\n",
      "CLASSIFICATION REPORT: \n",
      "             precision    recall  f1-score   support\n",
      "\n",
      "          0       1.00      1.00      1.00        50\n",
      "          1       0.94      0.94      0.94        50\n",
      "          2       0.94      0.94      0.94        50\n",
      "\n",
      "avg / total       0.96      0.96      0.96       150\n",
      "\n",
      "\n",
      "\n",
      "CONFUSION MATRIX: \n",
      "[[50  0  0]\n",
      " [ 0 47  3]\n",
      " [ 0  3 47]]\n",
      "\n"
     ]
    }
   ],
   "source": [
    "import numpy as np\n",
    "import pandas as pd\n",
    "from matplotlib import pyplot as plt\n",
    "np.random.seed(0)\n",
    "from sklearn.naive_bayes import GaussianNB\n",
    "from sklearn.datasets import load_iris\n",
    "from sklearn.model_selection import train_test_split, cross_val_score, StratifiedKFold\n",
    "from sklearn.metrics import accuracy_score, f1_score, classification_report, confusion_matrix\n",
    "% matplotlib inline\n",
    "\n",
    "# Uses load_iris() to load data into iris variable, then assigns iris.data and iris.target to appropriate variables\n",
    "iris = load_iris()\n",
    "dataset = iris.data\n",
    "class_label_vector = iris.target\n",
    "\n",
    "# Uses train_test_split to split the data into X_train, X_test, y_train, and y_test variables\n",
    "### X_train, X_test, Y_train, Y_test = train_test_split(dataset, class_label_vector, shuffle=True)\n",
    "\n",
    "# Create a GaussianNB() object and fit it using the training data\n",
    "clf_naïve_bayes = GaussianNB()\n",
    "clf_naïve_bayes.fit(dataset, class_label_vector)\n",
    "print(clf_naïve_bayes)\n",
    "\n",
    "# Uses fitted model to create predictions for X_test data\n",
    "test_prediction_vector = clf_naïve_bayes.predict(dataset)\n",
    "\n",
    "# Gathers and displays classifier resultant information\n",
    "print(\"\\nTEST PREDICTION VECTOR: \\n{}\\n\".format(test_prediction_vector))\n",
    "print(\"\\nACTUAL Y-TEST VALUES: \\n{}\\n\".format(Y_test.ravel()))\n",
    "# print(\"\\nACCURACY SCORE: \\n{}\\n\".format(accuracy_score(test_prediction_vector, Y_test)))\n",
    "# print(\"\\nF1 SCORE: \\n{}\\n\".format(f1_score(Y_test, test_prediction_vector, average=\"weighted\")))\n",
    "print(\"\\nCLASSIFICATION REPORT: \\n{}\\n\".format(classification_report(class_label_vector, test_prediction_vector)))\n",
    "print(\"\\nCONFUSION MATRIX: \\n{}\\n\".format(confusion_matrix(class_label_vector, test_prediction_vector)))"
   ]
  },
  {
   "cell_type": "markdown",
   "metadata": {},
   "source": [
    "<center><h3>Some Caveats</h3></center>\n",
    "\n",
    "You may have wondered why this particular model is a called a **_Naive_** Bayesian Classifier.  In this scenario, the word \"Naive\" simply means that the model makes the \"naive\" assumption that all features are independent of one another.  This leads us to the main caveat of this model--if you have feature columns that are highly correlated, this model may not work as well as we'd like.  **_If you're going to use Naive Bayes, make sure you check for highly correlated features beforehand!_**\n",
    "\n",
    "\n",
    "<center><h3>Where to Go From Here</h3></center>\n",
    "\n",
    "For the latter part of this assignment, you're going to use the famous Pima Indians Diabetes Dataset to build a Naive Bayesian Classifier that predicts whether or not an individual has diabetes.  You'll find the `pima_indians_diabetes.csv` file inside the `datasets` folder.  \n",
    "\n",
    "To build this classifier successfully, you'll want to follow the best practices for loading in and preprocessing a data set that you've learned in class:\n",
    "\n",
    "1. Importing the data\n",
    "1. Exploring the data\n",
    "1. \"Cleaning\" the data\n",
    "1. Splitting the data into training and testing sets (or using KFold Cross val--more on this below)\n",
    "1. Fitting the model\n",
    "1. Validating the model (checking predictions on the test set)\n",
    "\n",
    "Be sure to consider the following questions as you solve this problem:\n",
    "\n",
    "* How will you deal with null values?\n",
    "* For this model, does scaling the data improve your results? (HINT: test your assumption!)\n",
    "\n",
    "On top of cleaning and preprocessing this data set, you'll also use **_Cross Validation_** to get a better measure of the accuracy of your model.  We did not use K Fold Cross Validation in the above model on purpose--instead, you'll need to work your way through `sklearn`'s [model_selection documentation](http://scikit-learn.org/stable/modules/classes.html#module-sklearn.model_selection) to figure out how to effectively make use of cross-validation.  \n",
    "\n",
    "(**_Hint:_** There are several ways to implement cross validation using sklearn.  In the `model_selection` section of the documentation, pay special attention to the `KFold` object, as well as the methods available under the _Model Selection_ subsection.)\n",
    "\n",
    "\n",
    "Good luck!"
   ]
  },
  {
   "cell_type": "code",
   "execution_count": 78,
   "metadata": {
    "collapsed": true
   },
   "outputs": [],
   "source": [
    "# path to file: \"datasets/pima_indians_diabetes.csv\". The first row of the .csv contains the column names.\n",
    "# Note that in the \"Outcome\" column, 0 denotes someone that does NOT have diabetes, and 1 denotes someone that does.  "
   ]
  },
  {
   "cell_type": "code",
   "execution_count": 370,
   "metadata": {},
   "outputs": [],
   "source": [
    "# Import the Data\n",
    "PATH = \"./datasets/pima_indians_diabetes.csv\"\n",
    "raw_df = pd.read_csv(PATH)"
   ]
  },
  {
   "cell_type": "code",
   "execution_count": 371,
   "metadata": {},
   "outputs": [
    {
     "data": {
      "text/plain": [
       "(array([ 45.,  45.,  41.,  35.,  44.,  20.,  21.,  10.,   3.,   4.]),\n",
       " array([ 21. ,  25.9,  30.8,  35.7,  40.6,  45.5,  50.4,  55.3,  60.2,\n",
       "         65.1,  70. ]),\n",
       " <a list of 10 Patch objects>)"
      ]
     },
     "execution_count": 371,
     "metadata": {},
     "output_type": "execute_result"
    },
    {
     "data": {
      "image/png": "[encoded data removed]",
      "text/plain": [
       "<matplotlib.figure.Figure at 0x1a2519d6a0>"
      ]
     },
     "metadata": {},
     "output_type": "display_data"
    }
   ],
   "source": [
    "# Explore the Data\n",
    "\n",
    "column_metadata = {\"Pregnancies\": [\"Number of times pregnant\"], \n",
    "                   \"Glucose\": [\"Plasma glucose concentration a 2 hours in an oral glucose tolerance test\"],\n",
    "                   \"BloodPressure\": [\"Diastolic blood pressure (mmHg)\"],\n",
    "                   \"SkinThickness\": [\"Triceps skin fold thickness (mm)\"],\n",
    "                   \"Insulin\": [\"2-Hour serum insulin (mu U/ml)\"],\n",
    "                   \"BMI\": [\"Body mass index (weight in kg/(height in m)^2)\"],\n",
    "                   \"DiabetesPedigreeFunction\": [\"Diabetes pedigree function\"],\n",
    "                   \"Age\": [\"Age (years)\"],\n",
    "                   \"Outcome\": [\"Class variable (0 or 1)\"]}\n",
    "column_metadata_df = pd.DataFrame.from_dict(column_metadata).T\n",
    "### column_metadata_df\n",
    "\n",
    "# plt.hist(raw_df[\"Age\"], raw_df[\"Outcome\"])\n",
    "non_diabetic_ages = raw_df[raw_df[\"Outcome\"] == 0][\"Age\"]\n",
    "diabetic_ages = raw_df[raw_df[\"Outcome\"] == 1][\"Age\"]\n",
    "plt.hist(non_diabetic_ages, alpha=0.5)    # Blue\n",
    "plt.hist(diabetic_ages, alpha=0.3)        # Orange"
   ]
  },
  {
   "cell_type": "code",
   "execution_count": 372,
   "metadata": {},
   "outputs": [],
   "source": [
    "# Omit zero-values from: GLUCOSE, BLOODPRESSURE, SKINTHICKNESS, BMI, INSULIN\n",
    "raw_df = raw_df[raw_df[\"Glucose\"] > 0]\n",
    "raw_df = raw_df[raw_df[\"BloodPressure\"] > 0]\n",
    "raw_df = raw_df[raw_df[\"SkinThickness\"] > 0]\n",
    "raw_df = raw_df[raw_df[\"BMI\"] > 0]\n",
    "raw_df = raw_df[raw_df[\"Insulin\"] > 0]"
   ]
  },
  {
   "cell_type": "code",
   "execution_count": 398,
   "metadata": {},
   "outputs": [
    {
     "data": {
      "text/plain": [
       "<Container object of 392 artists>"
      ]
     },
     "execution_count": 398,
     "metadata": {},
     "output_type": "execute_result"
    },
    {
     "data": {
      "image/png": "[encoded data removed]",
      "text/plain": [
       "<matplotlib.figure.Figure at 0x1a27b82be0>"
      ]
     },
     "metadata": {},
     "output_type": "display_data"
    }
   ],
   "source": [
    "plt.bar(raw_df[\"Glucose\"], raw_df[\"Outcome\"])"
   ]
  },
  {
   "cell_type": "code",
   "execution_count": 373,
   "metadata": {},
   "outputs": [],
   "source": [
    "# \"Clean\" the Data\n",
    "\n",
    "# RANK FOR DATA POTENCY: Glucose --> BMI --> SkinThickness --> Age | Four dimensions to use\n",
    "dropped_df = raw_df.drop(columns=[\"Pregnancies\", \"BloodPressure\", \"Insulin\", \"DiabetesPedigreeFunction\"])\n",
    "cleaned_df = dropped_df[[\"Glucose\", \"BMI\", \"SkinThickness\", \"Age\", \"Outcome\"]]\n",
    "dataset = raw_df.as_matrix(columns=[\"Glucose\", \"BMI\", \"SkinThickness\", \"Age\"])\n",
    "class_label_vector = raw_df.as_matrix(columns=[\"Outcome\"])"
   ]
  },
  {
   "cell_type": "code",
   "execution_count": 376,
   "metadata": {},
   "outputs": [
    {
     "name": "stdout",
     "output_type": "stream",
     "text": [
      "\n",
      "TEST PREDICTION VECTOR: \n",
      "[1 0 0 0 0 0 0 0 0 1 0 0 1 0 1 1 1 1 0 0 0 0 0 0 0 0 0 0 0 1 0 1 1 0 0 1 0\n",
      " 1 1 1 0 0 0 0 1 0 1 1 0 1 0 0 1 0 1 0 0 1 1 0 1 0 0 0 0 0 0 0 0 0 0 0 0 0\n",
      " 0 0 0 0 0 1 1 0 0 0 0 1 0 0 0 0 1 0 1 0 1 0 0 0]\n",
      "\n",
      "\n",
      "ACTUAL Y-TEST VALUES: \n",
      "[1 1 0 0 0 0 1 0 0 1 0 0 0 1 0 1 1 1 0 0 0 1 0 0 0 0 0 1 0 1 0 1 1 0 0 1 0\n",
      " 1 1 1 1 0 0 0 1 0 1 1 0 0 0 1 1 0 1 0 0 0 1 0 1 1 0 0 1 0 1 0 0 0 1 0 0 0\n",
      " 1 0 1 0 0 1 0 0 0 0 0 0 0 0 0 0 1 0 1 0 1 0 0 0]\n",
      "\n",
      "\n",
      "ACCURACY SCORE: \n",
      "0.8061\n",
      "\n",
      "\n",
      "F1 SCORE: \n",
      "0.8009\n",
      "\n",
      "\n",
      "CLASSIFICATION REPORT: \n",
      "             precision    recall  f1-score   support\n",
      "\n",
      "          0       0.81      0.90      0.85        62\n",
      "          1       0.79      0.64      0.71        36\n",
      "\n",
      "avg / total       0.80      0.81      0.80        98\n",
      "\n",
      "\n",
      "\n",
      "CONFUSION MATRIX: \n",
      "[[56  6]\n",
      " [13 23]]\n",
      "\n"
     ]
    }
   ],
   "source": [
    "# Split the Data into Training and Test Sets (or using KFold Cross Validation)\n",
    "X_train, X_test, Y_train, Y_test = train_test_split(dataset, class_label_vector, shuffle=True)\n",
    "\n",
    "# Fit the Data\n",
    "naïve_bayes_classifier = GaussianNB()\n",
    "naïve_bayes_classifier.fit(X_train, Y_train.ravel())\n",
    "\n",
    "# Validate the Data Model (Check Predictions on Test Set)\n",
    "test_predictions = naïve_bayes_classifier.predict(X_test)\n",
    "\n",
    "# # Gathers and displays classifier resultant information\n",
    "print(\"\\nTEST PREDICTION VECTOR: \\n{}\\n\".format(test_predictions))\n",
    "print(\"\\nACTUAL Y-TEST VALUES: \\n{}\\n\".format(Y_test.ravel()))\n",
    "print(\"\\nACCURACY SCORE: \\n{0:.4f}\\n\".format(accuracy_score(test_predictions, Y_test)))\n",
    "print(\"\\nF1 SCORE: \\n{0:.4f}\\n\".format(f1_score(Y_test, test_predictions, average=\"weighted\")))\n",
    "print(\"\\nCLASSIFICATION REPORT: \\n{}\\n\".format(classification_report(Y_test, test_predictions)))\n",
    "print(\"\\nCONFUSION MATRIX: \\n{}\\n\".format(confusion_matrix(Y_test, test_predictions)))"
   ]
  },
  {
   "cell_type": "code",
   "execution_count": 385,
   "metadata": {},
   "outputs": [
    {
     "name": "stdout",
     "output_type": "stream",
     "text": [
      "\n",
      "TEST PREDICTION VECTOR: \n",
      "[1 1 1 1 0 1 0 0 1 0 0 1 1 0 0 1 1 0 1 0 0 0 0 0 1 0 0 0 0 0 0 0 0 0 0 0 0\n",
      " 0 0 0 0 0 0 1 0 1 1 0 0 1 1 0 1 0 0 1 0 0 0 0 0 0 0 0 1 0 0 0 0 0 1 0 0 1\n",
      " 0 0 0 0]\n",
      "\n",
      "\n",
      "ACTUAL Y-TEST VALUES: \n",
      "[1 1 1 1 0 0 0 0 0 0 0 1 1 0 0 1 1 1 0 1 0 0 0 1 0 0 0 0 0 1 0 1 1 0 0 0 0\n",
      " 0 0 0 0 0 0 1 0 1 1 0 0 1 1 0 1 0 0 1 0 1 0 0 0 0 1 0 1 0 0 0 0 0 1 0 0 1\n",
      " 0 0 0 0]\n",
      "\n",
      "\n",
      "ACCURACY SCORE: \n",
      "0.8462\n",
      "\n",
      "\n",
      "F1 SCORE: \n",
      "0.8426\n",
      "\n",
      "\n",
      "CLASSIFICATION REPORT: \n",
      "             precision    recall  f1-score   support\n",
      "\n",
      "          0       0.86      0.92      0.89        52\n",
      "          1       0.82      0.69      0.75        26\n",
      "\n",
      "avg / total       0.84      0.85      0.84        78\n",
      "\n",
      "\n",
      "\n",
      "CONFUSION MATRIX: \n",
      "[[48  4]\n",
      " [ 8 18]]\n",
      "\n"
     ]
    }
   ],
   "source": [
    "# Data Analysis with K-Folds Cross Validation\n",
    "def construct_kf(num_splits):\n",
    "    return StratifiedKFold(n_splits=num_splits, shuffle=True)\n",
    "\n",
    "kf = construct_kf(5)\n",
    "for train_index, test_index in kf.split(dataset, class_label_vector):\n",
    "    X_train, X_test = dataset[train_index], dataset[test_index]\n",
    "    Y_train, Y_test = class_label_vector[train_index], class_label_vector[test_index]\n",
    "    # print(\"\\nTRAINING DATA: \\n{}\\n\".format(train_index))\n",
    "    # print(\"\\nTEST DATA: \\n{}\\n\".format(test_index))\n",
    "    \n",
    "# Fit the Data\n",
    "naïve_bayes_classifier = GaussianNB()\n",
    "naïve_bayes_classifier.fit(X_train, Y_train.ravel())\n",
    "\n",
    "# Validate the Data Model (Check Predictions on Test Set)\n",
    "test_predictions = naïve_bayes_classifier.predict(X_test)\n",
    "\n",
    "# # Gathers and displays classifier resultant information\n",
    "print(\"\\nTEST PREDICTION VECTOR: \\n{}\\n\".format(test_predictions))\n",
    "print(\"\\nACTUAL Y-TEST VALUES: \\n{}\\n\".format(Y_test.ravel()))\n",
    "print(\"\\nACCURACY SCORE: \\n{0:.4f}\\n\".format(accuracy_score(test_predictions, Y_test)))\n",
    "print(\"\\nF1 SCORE: \\n{0:.4f}\\n\".format(f1_score(Y_test, test_predictions, average=\"weighted\")))\n",
    "print(\"\\nCLASSIFICATION REPORT: \\n{}\\n\".format(classification_report(Y_test, test_predictions)))\n",
    "print(\"\\nCONFUSION MATRIX: \\n{}\\n\".format(confusion_matrix(Y_test, test_predictions)))"
   ]
  },
  {
   "cell_type": "code",
   "execution_count": null,
   "metadata": {
    "collapsed": true
   },
   "outputs": [],
   "source": []
  }
 ],
 "metadata": {
  "kernelspec": {
   "display_name": "Python 3",
   "language": "python",
   "name": "python3"
  },
  "language_info": {
   "codemirror_mode": {
    "name": "ipython",
    "version": 3
   },
   "file_extension": ".py",
   "mimetype": "text/x-python",
   "name": "python",
   "nbconvert_exporter": "python",
   "pygments_lexer": "ipython3",
   "version": "3.6.3"
  }
 },
 "nbformat": 4,
 "nbformat_minor": 2
}
